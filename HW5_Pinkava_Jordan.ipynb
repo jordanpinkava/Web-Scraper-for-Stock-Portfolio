{
 "cells": [
  {
   "cell_type": "markdown",
   "id": "7d93b91a-06dc-41ea-9b00-63edaee56592",
   "metadata": {},
   "source": [
    "# Homework 5: Web Mining\n",
    "\n",
    "Name: Jordan Pinkava\n",
    "\n",
    "Course: BMGT404\n",
    "\n",
    "Section: 0201\n",
    "\n",
    "Date: 04/25/2024"
   ]
  },
  {
   "cell_type": "markdown",
   "id": "59a3c99b-93c7-4cb7-bc5e-1e0a8a6eaa91",
   "metadata": {},
   "source": [
    "My new analyst position at TerpBank, a small brokerage firm, gives me the oppourtunity to work with stocks and analyze the market on a daily basis. In this position, I have some lovely clients whom I get to help build their stock portfolios. Currently, I am trying to help a specific client with their stock portfolio and to help them get a better understanding of where they are investing their money. In doing so, it is also important to keep in mind that I will have many clients, and so will my co-workers, who encounter similar questions and issues. The code below attempts to be stock and stock portfolio analysis, all with code that can be reused for future clients! Therefore, I want to make this some of my cleanest code, as I know I will be using it again in the future. "
   ]
  },
  {
   "cell_type": "markdown",
   "id": "b71fb4c5-df1c-47ee-9c83-e2fc0a60d642",
   "metadata": {},
   "source": [
    "First things first, lets load in the necessary libraries for this stock portfolio analysis. We will use re, pandas, BeautifulSoup, requests, plotly, matplotlib, seaborn, and numpy!"
   ]
  },
  {
   "cell_type": "code",
   "execution_count": 1,
   "id": "64f9e9fc-d441-4dfc-a064-bfc51133cebc",
   "metadata": {},
   "outputs": [],
   "source": [
    "import re\n",
    "import pandas as pd\n",
    "from bs4 import BeautifulSoup\n",
    "import requests\n",
    "import plotly\n",
    "import matplotlib.pyplot as plt\n",
    "import seaborn as sns\n",
    "import numpy as np"
   ]
  },
  {
   "cell_type": "markdown",
   "id": "efac1ff2-d781-48da-8c10-ce7001eefab9",
   "metadata": {},
   "source": [
    "I want to start by creating a function that will read in the stock page that I am intersted in. This function relies on the analysis being through the Wall Street Journal stock page, which is what we use at TerpBank. From here, we want to grab the dataframe on the stock webpage, which has relevant information regarding the past 5 years for that particular stock. By doing this, we have a nicely formatted pandas dataframe that we can do our data analysis with, rather than manually parsing through the stock pages (and wasting our time!). "
   ]
  },
  {
   "cell_type": "code",
   "execution_count": 2,
   "id": "c89a576f-8882-402d-b87f-c8a4e43bb2da",
   "metadata": {
    "tags": []
   },
   "outputs": [],
   "source": [
    "#create a function called stock_data that creates a dataframe of our stock data from the past 5 years\n",
    "def stock_data(stock):\n",
    "    #takes WSJ url\n",
    "    stock_url = 'https://bmgt402.rhsmith.umd.edu/~jbono/bmgt404/homework5/'+str(stock)+'.html'\n",
    "    stock_page = requests.get(stock_url)\n",
    "    stock_page_soup = BeautifulSoup(stock_page.text, 'html.parser')\n",
    "    #reads in the table on the webpage\n",
    "    table = stock_page_soup.find_all('table', class_ = \"cr_dataTable\")\n",
    "    #formats the table\n",
    "    df = pd.read_html(str(table), index_col=0)[0]\n",
    "    df.dropna(how=\"all\", axis = 0, inplace = True)\n",
    "    df.dropna(how=\"all\", axis = 1, inplace = True)\n",
    "    return df"
   ]
  },
  {
   "cell_type": "markdown",
   "id": "dc6f47d3-97ae-4de1-88f8-a20342f4bb0c",
   "metadata": {},
   "source": [
    "From here, I want to create a variable for a dataframe for each one of my clients stocks in the portfolio. This allows for easy access to any of their stocks data from the data table we create from the function above. "
   ]
  },
  {
   "cell_type": "code",
   "execution_count": 3,
   "id": "48f80ba6-3209-42e1-a979-579bba1221c5",
   "metadata": {
    "tags": []
   },
   "outputs": [],
   "source": [
    "#create dataframes for function above\n",
    "microsoft_data = stock_data(\"MSFT\")\n",
    "apple_data = stock_data(\"AAPL\")\n",
    "walgreens_data = stock_data(\"WBA\")\n",
    "target_data = stock_data(\"TGT\")\n",
    "nike_data = stock_data(\"NKE\")"
   ]
  },
  {
   "cell_type": "markdown",
   "id": "09e3bb1d-e49c-4878-8f00-5d7033f8d731",
   "metadata": {},
   "source": [
    "Over the five years listed in the table, how much sales/revenue a certain stock has made is very important. We are curious on which stocks in the portfolio had the highest sales/revenue over the past five years. To do so, we made a function that grabs the total sales/revenue over the five year listed period. From there, I found the one with the highest sales to help out my customer!"
   ]
  },
  {
   "cell_type": "code",
   "execution_count": 5,
   "id": "4638fd1b-e4f4-4d50-ad24-10c5c06fca2d",
   "metadata": {},
   "outputs": [
    {
     "name": "stdout",
     "output_type": "stream",
     "text": [
      "Nike Total Sales: $219018\n",
      "Apple Total Sales: $1677548\n",
      "Walgreens Total Sales: $663141\n",
      "Microsoft Total Sales: $846790\n",
      "Target Total Sales: $462154\n",
      "\n",
      "Based on the data above, Apple had the highest total sales/revenue of $1677548 in millions of US dollars.\n"
     ]
    }
   ],
   "source": [
    "#create a function that calculates the total sales/revenue for a stock portfolio over the past five years\n",
    "def highest(stock):\n",
    "    sales = stock.loc[\"Sales/Revenue\"]\n",
    "    total = sales.astype(int).sum()\n",
    "    return total\n",
    "\n",
    "#from here, print out the total sales/revenue over the past 5 years\n",
    "print(f\"Nike Total Sales: ${highest(nike_data)}\")\n",
    "print(f\"Apple Total Sales: ${highest(apple_data)}\")\n",
    "print(f\"Walgreens Total Sales: ${highest(walgreens_data)}\")\n",
    "print(f\"Microsoft Total Sales: ${highest(microsoft_data)}\")\n",
    "print(f\"Target Total Sales: ${highest(target_data)}\")\n",
    "print()\n",
    "\n",
    "#find the stock with the highest sales/revenue from the past 5 years\n",
    "print(f\"Based on the data above, Apple had the highest total sales/revenue of ${highest(apple_data)} in millions of US dollars.\")"
   ]
  },
  {
   "cell_type": "markdown",
   "id": "4c91ea04-1dbb-4fa3-8637-81e658263c7f",
   "metadata": {},
   "source": [
    "It is important for any analyst to be able to visualize the data they are working with. I want to create a visualization for my client and myself to see the stock's sales growth (in total) over the past 5 years. Below, I created a function to grab that row of data, clean the data for each of the past five years, and then add all of those percentages together to see the total sales growth in percentage. "
   ]
  },
  {
   "cell_type": "code",
   "execution_count": 6,
   "id": "132873de-2cfe-4f82-aafe-6e6a246a5ee5",
   "metadata": {},
   "outputs": [],
   "source": [
    "#create function sales growth, which finds the total sales growth over the past five years\n",
    "def sales_growth(stock):\n",
    "    clean_stock = stock.replace(\"-\", \"0\")\n",
    "    sales_growth = clean_stock.loc[\"Sales Growth\"]\n",
    "    #for each year, clean the data and make a variable for it\n",
    "    perc23 = sales_growth[0]\n",
    "    perc_23 = perc23.replace(\"%\", \"\")\n",
    "    perc22 = sales_growth[1]\n",
    "    perc_22 = perc22.replace(\"%\", \"\")\n",
    "    perc21 = sales_growth[2]\n",
    "    perc_21 = perc21.replace(\"%\", \"\")\n",
    "    perc20 = sales_growth[3]\n",
    "    perc_20 = perc20.replace(\"%\", \"\")\n",
    "    perc19 = sales_growth[4]\n",
    "    perc_19 = perc19.replace(\"%\", \"\")\n",
    "    #convert percentages to floats so we can add them together\n",
    "    return float(perc_23) + float(perc_22) + float(perc_21) + float(perc_20) + float(perc_19)"
   ]
  },
  {
   "cell_type": "markdown",
   "id": "2f57d356-1eec-4fb7-9395-7d579b4bd609",
   "metadata": {},
   "source": [
    "After creating the function above, we can make our visualization! Below, I created a a list of all of the percentages (using the function above!), a list of all the company (stock) names, then began plotting. I used seaborn to make my graph prettier than a basic matplotlib visualization. Further, I changed the colors to be associated with the main colors of each company, so that it is more visually stimulating and readable for anyone who views the graph. Finally, I added annotations so that it is easy to read the percentage growth for each stock.\n",
    "\n",
    "I decided doing a total sales growth as a bar plot would be better than a side by side barplot for each year/each company because I think the total growth over the years is better seen through a total percentage growth. "
   ]
  },
  {
   "cell_type": "code",
   "execution_count": 7,
   "id": "c6634f7c-94f2-45ae-a959-fcc85707efa3",
   "metadata": {},
   "outputs": [
    {
     "data": {
      "image/png": "[encoded data removed]",
      "text/plain": [
       "<Figure size 1000x600 with 1 Axes>"
      ]
     },
     "metadata": {},
     "output_type": "display_data"
    }
   ],
   "source": [
    "#create a list of the sales growth for each stock\n",
    "stock_prc_growth = [sales_growth(nike_data), sales_growth(target_data), sales_growth(microsoft_data), sales_growth(walgreens_data), sales_growth(apple_data)]\n",
    "\n",
    "#create a list of company names to be used in the x-axis\n",
    "company_names = [\"Nike\", 'Target', 'Microsoft', 'Walgreens', 'Apple']\n",
    "\n",
    "#create our plot, uisng seaborn and matplotlib\n",
    "plt.figure(figsize=(10, 6))\n",
    "axis = sns.barplot(x=company_names, y=stock_prc_growth, palette=[\"Orange\", \"Red\", \"Blue\", \"Maroon\", \"Gray\"])\n",
    "\n",
    "axis.set_title('Sales Growth Percentage Over Five Years', fontdict={'fontsize': 20, 'fontweight': 700, 'color': 'black'}, pad=20) \n",
    "axis.set_ylim([0,100])\n",
    "plt.ylabel('Sales Growth Total in Percent')\n",
    "\n",
    "#annotate the top of each bar to have the percentage for each stock\n",
    "for p in axis.patches:\n",
    "    height = p.get_height()\n",
    "    axis.annotate(f'{height:.2f}%',xy=(p.get_x() + p.get_width() / 2, height), ha='center', va='bottom')\n",
    "\n",
    "plt.show()"
   ]
  },
  {
   "cell_type": "markdown",
   "id": "3e666415-284f-431f-be16-69ae044dc629",
   "metadata": {},
   "source": [
    "Based on the visualization above, I would highly recommend new clients to purchase stock for Microsoft. Microsoft is a powerful company, and that reflects strongly in their stock growth, as seen with a 56.32% growth over the past 5 years. As a second recommendation, I would suggest Apple, which of course is a close competitor to Microsoft for some technology. Apple is second in terms of sales growth over the past five years, with a 43.89% growth over the past five years, but an overall strong growth is seen. "
   ]
  },
  {
   "cell_type": "markdown",
   "id": "c546fb05-0493-4244-b182-2d55f4379ff5",
   "metadata": {},
   "source": [
    "# Stock Portfolio Analysis\n",
    "\n",
    "To better understand my client's portfolio, I want to know how they are doing at the end of each day. The stock market closes at 4pm daily, and the closing price is listed on the WSJ website for us. To see how my client is doing overall, we can create a function that grabs the closing time for any stock in the portfolio, and simply from there we can add all the closing prices together to see the total value of the client's portfolio at the end of the day!"
   ]
  },
  {
   "cell_type": "code",
   "execution_count": 8,
   "id": "5b7d8e10-2204-4939-8b48-b6540e1ae7dd",
   "metadata": {},
   "outputs": [
    {
     "name": "stdout",
     "output_type": "stream",
     "text": [
      "The total value of the clients portfolio at 4pm close was $841.5\n"
     ]
    }
   ],
   "source": [
    "#define a function to get the stock closing price\n",
    "def stock_close(stock):\n",
    "    stock_url = 'https://bmgt402.rhsmith.umd.edu/~jbono/bmgt404/homework5/'+str(stock)+'.html'\n",
    "    stock_page = requests.get(stock_url)\n",
    "    stock_page_soup = BeautifulSoup(stock_page.text, 'html.parser')\n",
    "    closing_time = stock_page_soup.find('span', class_ = \"cr_num cr_curr_price\").text\n",
    "    closing_time = closing_time.replace(\"$\", \"\")\n",
    "    return float(closing_time)\n",
    "\n",
    "#create a variable for all stock closing prices\n",
    "wba_close = stock_close(\"WBA\")\n",
    "msft_close = stock_close(\"MSFT\")\n",
    "aapl_close = stock_close(\"AAPL\")\n",
    "tgt_close = stock_close(\"TGT\")\n",
    "nke_close = stock_close(\"NKE\")\n",
    "\n",
    "#add those prices together to get the total value of the clients portfolio after the 4pm close.\n",
    "total_value = wba_close + msft_close + aapl_close + tgt_close + nke_close\n",
    "print(f\"The total value of the clients portfolio at 4pm close was ${total_value}\")"
   ]
  },
  {
   "cell_type": "markdown",
   "id": "db25dd18-cc09-4166-8679-809f070ad9c5",
   "metadata": {},
   "source": [
    "Further, we also want to see if our client is doing well after hours. Specifically, we want to see if there is any decrease in the clients portfolio when the stock market is not open. We can grab the portfolio percent change pre-market to see if the percentage is positive or negative, which helps indicate if the stock is seeing an increase or decrease when the market's closed.  "
   ]
  },
  {
   "cell_type": "code",
   "execution_count": 11,
   "id": "36ec8307-6d26-48b8-a2d5-51f1aa0171b8",
   "metadata": {},
   "outputs": [
    {
     "name": "stdout",
     "output_type": "stream",
     "text": [
      "The amount of stocks that saw a decrease in value in the client's portfolio was 1 stock.\n"
     ]
    }
   ],
   "source": [
    "#create a function that looks at the percentage change when the market is closed\n",
    "def stock_decrease(stock):\n",
    "    stock_url = 'https://bmgt402.rhsmith.umd.edu/~jbono/bmgt404/homework5/'+str(stock)+'.html'\n",
    "    stock_page = requests.get(stock_url)\n",
    "    stock_page_soup = BeautifulSoup(stock_page.text, 'html.parser')\n",
    "    closing_time = stock_page_soup.find('span', class_ = \"cr_num diff_percent\").text\n",
    "    closing_time = closing_time.replace(\"%\", \"\")\n",
    "    return float(closing_time)\n",
    "\n",
    "#create variables for all of the stock decrease values\n",
    "nke_dec = stock_decrease('NKE')\n",
    "tgt_dec = stock_decrease('TGT')\n",
    "wba_dec = stock_decrease('WBA')\n",
    "msft_dec = stock_decrease('MSFT')\n",
    "aapl_dec = stock_decrease('AAPL')\n",
    "\n",
    "#dd these values to a list so we can iterate through them\n",
    "stock_decreases = [nke_dec, wba_dec, msft_dec, aapl_dec, tgt_dec]\n",
    "amount_decreases = 0\n",
    "#this counts the amount of stocks our clients portfolio sees a decrease in while the market is closed\n",
    "for stock in stock_decreases:\n",
    "    if stock < 0:\n",
    "        amount_decreases +=1\n",
    "        \n",
    "print(f\"The amount of stocks that saw a decrease in value in the client's portfolio was {amount_decreases} stock.\")"
   ]
  },
  {
   "cell_type": "markdown",
   "id": "91c73f99-b559-4a0c-a52e-a5b28ae37ed2",
   "metadata": {},
   "source": [
    "Finally, we want to understand the clients portfolio on a yearly spread. The amount a stock fluctuates on 52 week basis is really significant when building a portfolio that meets the client's needs. To understand this, I created a function that gets the 52 week range for the stock, then I clean it up so I can find the difference (the flucuation) that the stock experienced over the 52 week change. "
   ]
  },
  {
   "cell_type": "code",
   "execution_count": 18,
   "id": "a5ad12ef-7b97-4a41-9b6d-c472dfc7db51",
   "metadata": {},
   "outputs": [],
   "source": [
    "#find the 52 week change for each stock using the following function\n",
    "def stock_flux(stock):\n",
    "    stock_url = 'https://bmgt402.rhsmith.umd.edu/~jbono/bmgt404/homework5/'+str(stock)+'.html'\n",
    "    stock_page = requests.get(stock_url)\n",
    "    stock_page_soup = BeautifulSoup(stock_page.text, 'html.parser')\n",
    "    closing_time = stock_page_soup.find_all('span', class_ = \"data_data\")\n",
    "    fifty_two = closing_time[4]\n",
    "    return fifty_two.text\n",
    "\n",
    "#make a function (using the one above as well) that cleans the string, changes it to a list, then helps us find the difference in the 52 week change\n",
    "def flux(stock):\n",
    "    flux = stock_flux(stock)\n",
    "    clean_flux = flux.strip().split(\"-\")\n",
    "    flux_amount = abs(float(clean_flux[0]) - float(clean_flux[1]))\n",
    "    return flux_amount"
   ]
  },
  {
   "cell_type": "markdown",
   "id": "af77fc9f-5417-48e4-82bc-0a01880a57bd",
   "metadata": {},
   "source": [
    "Below, we take the data from above to get the stock that had the most fluctuation in the 52 week period."
   ]
  },
  {
   "cell_type": "code",
   "execution_count": 20,
   "id": "ffaa6749-db4d-41ce-87dd-191270bb5cc7",
   "metadata": {},
   "outputs": [
    {
     "name": "stdout",
     "output_type": "stream",
     "text": [
      "Nike fluctuation: $42.65\n",
      "Apple fluctuation: $68.18\n",
      "Walgreens fluctuation: $18.27\n",
      "Microsoft fluctuation: $153.62\n",
      "Target fluctuation: $78.77\n",
      "\n",
      "Based on the data above, Microsoft had the highest 52-week fluctuation of $153.62\n"
     ]
    }
   ],
   "source": [
    "#print the fluctuations for each stock in the portfolio\n",
    "print(f\"Nike fluctuation: ${flux('NKE'):.2f}\")\n",
    "print(f\"Apple fluctuation: ${flux('AAPL'):.2f}\")\n",
    "print(f\"Walgreens fluctuation: ${flux('WBA'):.2f}\")\n",
    "print(f\"Microsoft fluctuation: ${flux('MSFT'):.2f}\")\n",
    "print(f\"Target fluctuation: ${flux('TGT'):.2f}\")\n",
    "print()\n",
    "\n",
    "#find the stock with the highest fluctuation over the 52 week period\n",
    "print(f\"Based on the data above, Microsoft had the highest 52-week fluctuation of ${flux('MSFT'):.2f}\")"
   ]
  },
  {
   "cell_type": "markdown",
   "id": "f66faefe-553d-469d-8c01-e6b8d6b0a899",
   "metadata": {},
   "source": [
    "In doing this analysis, the big takeaway is the fact that this code is re-usable, for both myself and my coworkers who face similar issues. The code is meant to be used for any clients portfolio, and much of the code can be updated to fit the needs and wants of the client as well. This is extremely pivitol to my new analyst role at TerpBank, and from this task, it already seems that I am making a big impact for myself, my company, and most importantly, my clients. "
   ]
  },
  {
   "cell_type": "markdown",
   "id": "c9507bed-335d-462d-8850-ec288456cbe3",
   "metadata": {},
   "source": [
    "\"I pledge on my honor that I have not given nor received any unauthorized\n",
    "assistance on this assignment.\"\n",
    "--Jordan Pinkava"
   ]
  }
 ],
 "metadata": {
  "kernelspec": {
   "display_name": "Python 3 (ipykernel)",
   "language": "python",
   "name": "python3"
  },
  "language_info": {
   "codemirror_mode": {
    "name": "ipython",
    "version": 3
   },
   "file_extension": ".py",
   "mimetype": "text/x-python",
   "name": "python",
   "nbconvert_exporter": "python",
   "pygments_lexer": "ipython3",
   "version": "3.9.13"
  }
 },
 "nbformat": 4,
 "nbformat_minor": 5
}
